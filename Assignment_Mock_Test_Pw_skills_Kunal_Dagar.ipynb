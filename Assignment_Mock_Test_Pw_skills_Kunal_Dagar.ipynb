{
  "nbformat": 4,
  "nbformat_minor": 0,
  "metadata": {
    "colab": {
      "provenance": []
    },
    "kernelspec": {
      "name": "python3",
      "display_name": "Python 3"
    },
    "language_info": {
      "name": "python"
    }
  },
  "cells": [
    {
      "cell_type": "markdown",
      "source": [
        "Move Zeroes\n",
        "Given an integer array nums, move all 0's to the end of it while maintaining the relative order of the non-zero elements.\n",
        "\n",
        "Note that you must do this in-place without making a copy of the array.\n",
        "\n",
        "Example 1:\n",
        "Input: nums = [0,1,0,3,12]\n",
        "Output: [1,3,12,0,0]\n",
        "\n",
        "Example 2:\n",
        "Input: nums = [0]\n",
        "Output: [0]\n",
        "\n",
        "Constraints:\n",
        "a. 1 <= nums.length <= 10^4\n",
        "b. -2^31 <= nums[i] <= 2^31 - 1"
      ],
      "metadata": {
        "id": "f7D067fdFAVI"
      }
    },
    {
      "cell_type": "code",
      "source": [
        "def change_zero(arr):\n",
        "  count = 0\n",
        "  for i in arr:\n",
        "    if(i==0):\n",
        "      arr.remove(i)\n",
        "      count = count + 1\n",
        "  for i in range(count):\n",
        "    arr.append(0)\n",
        "\n",
        "  return arr\n",
        "\n",
        "arr = [0,1,0,3,12]\n",
        "print(change_zero(arr))"
      ],
      "metadata": {
        "colab": {
          "base_uri": "https://localhost:8080/"
        },
        "id": "SPz9-3Z8CQDk",
        "outputId": "8b0f6880-ddb9-4105-d0e0-b0d5e53c2b9b"
      },
      "execution_count": 10,
      "outputs": [
        {
          "output_type": "stream",
          "name": "stdout",
          "text": [
            "[1, 3, 12, 0, 0]\n"
          ]
        }
      ]
    },
    {
      "cell_type": "markdown",
      "source": [
        "First Unique Character in a String\n",
        "\n",
        "Given a string s, find the first non-repeating character in it and return its index. If it does not exist, return -1.\n",
        "\n",
        "Example 1:\n",
        "Input: s = \"leetcode\"\n",
        "Output: 0\n",
        "\n",
        "Example 2:\n",
        "Input: s = \"loveleetcode\"\n",
        "Output: 2\n",
        "\n",
        "Example 3:\n",
        "Input: s = \"aabb\"\n",
        "Output: -1\n",
        "\n",
        "Constraints:\n",
        "a. 1 <= s.length <= 10^5\n",
        "b. s consists of only lowercase English letters."
      ],
      "metadata": {
        "id": "AG3olxdFFW59"
      }
    },
    {
      "cell_type": "code",
      "source": [
        "def repeat(s):\n",
        "    char = []\n",
        "    for i in range(len(s)):\n",
        "        is_repeated = False\n",
        "        for j in range(i+1, len(s)):\n",
        "            if s[i] == s[j]:\n",
        "                is_repeated = True\n",
        "                break\n",
        "        if not is_repeated and s[i] not in char:\n",
        "            return s[i]\n",
        "    return None\n",
        "s = \"leetcode\"\n",
        "print(repeat(s))"
      ],
      "metadata": {
        "colab": {
          "base_uri": "https://localhost:8080/"
        },
        "id": "6n-3fcILEPUN",
        "outputId": "594831af-7802-49fd-8fee-02fb0b6c9ca9"
      },
      "execution_count": 23,
      "outputs": [
        {
          "output_type": "stream",
          "name": "stdout",
          "text": [
            "l\n"
          ]
        }
      ]
    },
    {
      "cell_type": "code",
      "source": [],
      "metadata": {
        "id": "v1xklZRiGNmZ"
      },
      "execution_count": null,
      "outputs": []
    }
  ]
}